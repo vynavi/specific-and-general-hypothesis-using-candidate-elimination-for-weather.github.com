{
 "cells": [
  {
   "cell_type": "code",
   "execution_count": 5,
   "id": "45ec9f7b",
   "metadata": {},
   "outputs": [
    {
     "name": "stdout",
     "output_type": "stream",
     "text": [
      "the data:\n",
      "\n",
      "['sunny', 'warm', 'normal', 'strong', 'warm', 'same', 'yes']\n",
      "['sunny', 'warm', 'high', 'strong', 'warm', 'same', 'yes']\n",
      "['rainy', 'cold', 'high', 'strong', 'warm', 'change', 'no']\n",
      "['sunny', 'warm', 'high', 'strong', 'cool', 'changs', 'yes']\n"
     ]
    }
   ],
   "source": [
    "import csv\n",
    "a=[]\n",
    "print(\"the data:\\n\")\n",
    "with open('ce.csv','r') as file:\n",
    "    reader=csv.reader(file)\n",
    "    for row in reader:\n",
    "        a.append(row)\n",
    "        print(row)\n",
    "num=len(a[0])-1"
   ]
  },
  {
   "cell_type": "code",
   "execution_count": 6,
   "id": "fa07c6fa",
   "metadata": {},
   "outputs": [
    {
     "name": "stdout",
     "output_type": "stream",
     "text": [
      "initial values:\n",
      "specific value s0= [0, 0, 0, 0, 0, 0]\n",
      "general value g0= ['?', '?', '?', '?', '?', '?']\n"
     ]
    }
   ],
   "source": [
    "print(\"initial values:\")\n",
    "s=[0]*num\n",
    "g=['?']*num\n",
    "print(\"specific value s0=\",s)\n",
    "print(\"general value g0=\",g)"
   ]
  },
  {
   "cell_type": "code",
   "execution_count": 7,
   "id": "68117508",
   "metadata": {},
   "outputs": [
    {
     "name": "stdout",
     "output_type": "stream",
     "text": [
      "['sunny', 'warm', 'normal', 'strong', 'warm', 'same']\n"
     ]
    }
   ],
   "source": [
    "s=a[0]\n",
    "s=s[:-1]\n",
    "print(s)"
   ]
  },
  {
   "cell_type": "code",
   "execution_count": 8,
   "id": "e054ab07",
   "metadata": {},
   "outputs": [
    {
     "name": "stdout",
     "output_type": "stream",
     "text": [
      "-------------------------------------------------------------------------------------------------------\n",
      "for training example no  1  hypothesis s:  ['sunny', 'warm', 'normal', 'strong', 'warm', 'same']\n",
      "for training example no  1  hypothesis g:  ['?', '?', '?', '?', '?', '?']\n",
      "-------------------------------------------------------------------------------------------------------\n",
      "for training example no  2  hypothesis s:  ['sunny', 'warm', 'normal', 'strong', 'warm', 'same']\n",
      "for training example no  2  hypothesis g:  ['?', '?', '?', '?', '?', '?']\n",
      "-------------------------------------------------------------------------------------------------------\n",
      "for training example no  3  the hypothesis is s 3   ['sunny', 'warm', 'normal', 'strong', 'warm', 'same']\n",
      "for training example no  3  the hypothesis is g 3   [['sunny', '?', '?', '?', '?', '?'], ['?', 'warm', '?', '?', '?', '?'], ['?', '?', 'normal', '?', '?', '?'], ['?', '?', '?', '?', '?', 'same']]\n",
      "-------------------------------------------------------------------------------------------------------\n",
      "for training example no  4  hypothesis s:  ['sunny', 'warm', 'normal', 'strong', 'warm', 'same']\n",
      "for training example no  4  hypothesis g:  [['sunny', '?', '?', '?', '?', '?'], ['?', 'warm', '?', '?', '?', '?'], ['?', '?', 'normal', '?', '?', '?'], ['?', '?', '?', '?', '?', 'same']]\n"
     ]
    }
   ],
   "source": [
    "temp=[]\n",
    "for i in range(len(a)):\n",
    "    if a[i][num]=='yes':\n",
    "        for j in range(num):\n",
    "            if a[i][j]!=s[j]:\n",
    "                a[i][j]='?'\n",
    "        for j in range(num):\n",
    "            for k in range(1,len(temp)):\n",
    "                if temp[k][j]!='?' and temp[k][j]!=s[j]:\n",
    "                    del temp[k]\n",
    "        print(\"-------------------------------------------------------------------------------------------------------\")\n",
    "        print(\"for training example no \",i+1,\" hypothesis s: \",s)\n",
    "        if len(temp)==0:\n",
    "            print(\"for training example no \",i+1,\" hypothesis g: \",g)\n",
    "        else:\n",
    "            print(\"for training example no \",i+1,\" hypothesis g: \",temp)\n",
    "    if a[i][num]=='no':\n",
    "        for j in range(num):\n",
    "            if a[i][j]!=s[j] and s[j]!='?':\n",
    "                g[j]=s[j]\n",
    "                temp.append(g)\n",
    "                g=['?']*num\n",
    "        print(\"-------------------------------------------------------------------------------------------------------\")\n",
    "        print(\"for training example no \",i+1,\" the hypothesis is s\",i+1,\" \", s)\n",
    "        print(\"for training example no \",i+1,\" the hypothesis is g\",i+1,\" \", temp)"
   ]
  }
 ],
 "metadata": {
  "kernelspec": {
   "display_name": "Python 3 (ipykernel)",
   "language": "python",
   "name": "python3"
  },
  "language_info": {
   "codemirror_mode": {
    "name": "ipython",
    "version": 3
   },
   "file_extension": ".py",
   "mimetype": "text/x-python",
   "name": "python",
   "nbconvert_exporter": "python",
   "pygments_lexer": "ipython3",
   "version": "3.9.13"
  }
 },
 "nbformat": 4,
 "nbformat_minor": 5
}
